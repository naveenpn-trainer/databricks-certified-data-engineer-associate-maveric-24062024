{
 "cells": [
  {
   "cell_type": "code",
   "execution_count": 0,
   "metadata": {
    "application/vnd.databricks.v1+cell": {
     "cellMetadata": {
      "byteLimit": 2048000,
      "rowLimit": 10000
     },
     "inputWidgets": {},
     "nuid": "fca8699b-3801-4bda-beae-c041fafb7d43",
     "showTitle": false,
     "title": ""
    }
   },
   "outputs": [
    {
     "output_type": "display_data",
     "data": {
      "text/html": [
       "<style scoped>\n",
       "  .table-result-container {\n",
       "    max-height: 300px;\n",
       "    overflow: auto;\n",
       "  }\n",
       "  table, th, td {\n",
       "    border: 1px solid black;\n",
       "    border-collapse: collapse;\n",
       "  }\n",
       "  th, td {\n",
       "    padding: 5px;\n",
       "  }\n",
       "  th {\n",
       "    text-align: left;\n",
       "  }\n",
       "</style><div class='table-result-container'><table class='table-result'><thead style='background-color: white'><tr><th>id</th><th>name</th><th>experience</th><th>gender</th><th>dob</th><th>company</th><th>designation</th><th>doj</th><th>skills</th><th>actual_expected_salary</th></tr></thead><tbody><tr><td>101</td><td>Agastya</td><td>1</td><td>M</td><td>1987-01-22T00:00:00Z</td><td>Infosys</td><td>Developer</td><td>21-01-2015</td><td>Hadoop,PySpark,Kafka</td><td>1050000,1100000</td></tr><tr><td>102</td><td>Acyuta</td><td>2</td><td>F</td><td>1987-03-29T00:00:00Z</td><td>TCS</td><td>Team Lead</td><td>21-01-2016</td><td>C,C++,Java</td><td>1050000,1100000</td></tr><tr><td>103</td><td>Anuvrata</td><td>1</td><td>M</td><td>1987-01-22T00:00:00Z</td><td>Infosys</td><td>Developer</td><td>21-01-2017</td><td>Java,Python,Hadoop</td><td>1050000,1100000</td></tr><tr><td>null</td><td>Bhavika</td><td>6</td><td>F</td><td>1987-01-22T00:00:00Z</td><td>Cisco</td><td>Team lead</td><td>21-01-2015</td><td>Hadoop,PySpark,Kafka</td><td>null</td></tr><tr><td>105</td><td>Chitragandha</td><td>null</td><td>M</td><td>1987-01-22T00:00:00Z</td><td>CTS</td><td>Developer</td><td>null</td><td>C,C++,Java</td><td>1050000,1100000</td></tr><tr><td>106</td><td>Hritika</td><td>9</td><td>F</td><td>1987-01-22T00:00:00Z</td><td>Cisco</td><td>Developer</td><td>21-01-2016</td><td>C,C++,Java</td><td>1050000,1100000</td></tr><tr><td>107</td><td>Jigyasa</td><td>12</td><td>M</td><td>1987-01-22T00:00:00Z</td><td>Infosys</td><td>Team Lead</td><td>21-01-2005</td><td>Hadoop,PySpark,Kafka</td><td>1050000,1100000</td></tr><tr><td>108</td><td>Kaveri</td><td>4</td><td>F</td><td>1987-01-22T00:00:00Z</td><td>cisco</td><td>Research and Development Engineer</td><td>21-01-2015</td><td>C,C++,Java</td><td>1050000,1100000</td></tr><tr><td>109</td><td>null</td><td>8</td><td>M</td><td>1987-01-22T00:00:00Z</td><td>null</td><td>Developer</td><td>21-01-2008</td><td>C,C++,Java</td><td>1050000,1100000</td></tr><tr><td>110</td><td>Vin</td><td>null</td><td>T</td><td>1987-01-22T00:00:00Z</td><td>Sagar Info Tech</td><td>\" Team Lead \"</td><td>21-01-2020</td><td>C,C++,C++,Assembly</td><td>1000000,600000</td></tr><tr><td>null</td><td>null</td><td>null</td><td>null</td><td>null</td><td>null</td><td>null</td><td>null</td><td>null</td><td>null</td></tr></tbody></table></div>"
      ]
     },
     "metadata": {
      "application/vnd.databricks.v1+output": {
       "addedWidgets": {},
       "aggData": [],
       "aggError": "",
       "aggOverflow": false,
       "aggSchema": [],
       "aggSeriesLimitReached": false,
       "aggType": "",
       "arguments": {},
       "columnCustomDisplayInfos": {},
       "data": [
        [
         101,
         "Agastya",
         1,
         "M",
         "1987-01-22T00:00:00Z",
         "Infosys",
         "Developer",
         "21-01-2015",
         "Hadoop,PySpark,Kafka",
         "1050000,1100000"
        ],
        [
         102,
         "Acyuta",
         2,
         "F",
         "1987-03-29T00:00:00Z",
         "TCS",
         "Team Lead",
         "21-01-2016",
         "C,C++,Java",
         "1050000,1100000"
        ],
        [
         103,
         "Anuvrata",
         1,
         "M",
         "1987-01-22T00:00:00Z",
         "Infosys",
         "Developer",
         "21-01-2017",
         "Java,Python,Hadoop",
         "1050000,1100000"
        ],
        [
         null,
         "Bhavika",
         6,
         "F",
         "1987-01-22T00:00:00Z",
         "Cisco",
         "Team lead",
         "21-01-2015",
         "Hadoop,PySpark,Kafka",
         null
        ],
        [
         105,
         "Chitragandha",
         null,
         "M",
         "1987-01-22T00:00:00Z",
         "CTS",
         "Developer",
         null,
         "C,C++,Java",
         "1050000,1100000"
        ],
        [
         106,
         "Hritika",
         9,
         "F",
         "1987-01-22T00:00:00Z",
         "Cisco",
         "Developer",
         "21-01-2016",
         "C,C++,Java",
         "1050000,1100000"
        ],
        [
         107,
         "Jigyasa",
         12,
         "M",
         "1987-01-22T00:00:00Z",
         "Infosys",
         "Team Lead",
         "21-01-2005",
         "Hadoop,PySpark,Kafka",
         "1050000,1100000"
        ],
        [
         108,
         "Kaveri",
         4,
         "F",
         "1987-01-22T00:00:00Z",
         "cisco",
         "Research and Development Engineer",
         "21-01-2015",
         "C,C++,Java",
         "1050000,1100000"
        ],
        [
         109,
         null,
         8,
         "M",
         "1987-01-22T00:00:00Z",
         null,
         "Developer",
         "21-01-2008",
         "C,C++,Java",
         "1050000,1100000"
        ],
        [
         110,
         "Vin",
         null,
         "T",
         "1987-01-22T00:00:00Z",
         "Sagar Info Tech",
         "\" Team Lead \"",
         "21-01-2020",
         "C,C++,C++,Assembly",
         "1000000,600000"
        ],
        [
         null,
         null,
         null,
         null,
         null,
         null,
         null,
         null,
         null,
         null
        ]
       ],
       "datasetInfos": [],
       "dbfsResultPath": null,
       "isJsonSchema": true,
       "metadata": {},
       "overflow": false,
       "plotOptions": {
        "customPlotOptions": {},
        "displayType": "table",
        "pivotAggregation": null,
        "pivotColumns": null,
        "xColumns": null,
        "yColumns": null
       },
       "removedWidgets": [],
       "schema": [
        {
         "metadata": "{}",
         "name": "id",
         "type": "\"integer\""
        },
        {
         "metadata": "{}",
         "name": "name",
         "type": "\"string\""
        },
        {
         "metadata": "{}",
         "name": "experience",
         "type": "\"integer\""
        },
        {
         "metadata": "{}",
         "name": "gender",
         "type": "\"string\""
        },
        {
         "metadata": "{}",
         "name": "dob",
         "type": "\"timestamp\""
        },
        {
         "metadata": "{}",
         "name": "company",
         "type": "\"string\""
        },
        {
         "metadata": "{}",
         "name": "designation",
         "type": "\"string\""
        },
        {
         "metadata": "{}",
         "name": "doj",
         "type": "\"string\""
        },
        {
         "metadata": "{}",
         "name": "skills",
         "type": "\"string\""
        },
        {
         "metadata": "{}",
         "name": "actual_expected_salary",
         "type": "\"string\""
        }
       ],
       "type": "table"
      }
     },
     "output_type": "display_data"
    }
   ],
   "source": [
    "from pyspark.sql.types import *\n",
    "from pyspark.sql.functions import *\n",
    "\n",
    "custome_schema = StructType([StructField(\"id\", IntegerType()),\n",
    "                             StructField(\"name\", StringType()),\n",
    "                             StructField(\"experience\", IntegerType()),\n",
    "                             StructField(\"gender\", StringType()),\n",
    "                             StructField(\"dob\", TimestampType()),\n",
    "                             StructField(\"company\", StringType()),\n",
    "                             StructField(\"designation\", StringType()),\n",
    "                             StructField(\"doj\", StringType()),\n",
    "                             StructField(\"skills\", StringType()),\n",
    "                             StructField(\"actual_expected_salary\", StringType())])\n",
    "\n",
    "employee_df = spark.read.csv(\"/FileStore/tables/country_count.txt/employee.csv\",\n",
    "                             sep=\"|\",\n",
    "                             header=True,\n",
    "                             quote=\"'\",\n",
    "                             schema=custome_schema)\n",
    "employee_df.display()"
   ]
  },
  {
   "cell_type": "markdown",
   "metadata": {
    "application/vnd.databricks.v1+cell": {
     "cellMetadata": {},
     "inputWidgets": {},
     "nuid": "45d85eb9-21f6-43c2-91b5-c4d9b4e2bcb0",
     "showTitle": false,
     "title": ""
    }
   },
   "source": [
    "## Q-1 Filter out the records which are having accepted salary more than expected sal"
   ]
  },
  {
   "cell_type": "code",
   "execution_count": 0,
   "metadata": {
    "application/vnd.databricks.v1+cell": {
     "cellMetadata": {
      "byteLimit": 2048000,
      "rowLimit": 10000
     },
     "inputWidgets": {},
     "nuid": "ed6cede1-51cd-485f-bb53-bca47231fbe7",
     "showTitle": false,
     "title": ""
    }
   },
   "outputs": [
    {
     "output_type": "display_data",
     "data": {
      "text/html": [
       "<style scoped>\n",
       "  .table-result-container {\n",
       "    max-height: 300px;\n",
       "    overflow: auto;\n",
       "  }\n",
       "  table, th, td {\n",
       "    border: 1px solid black;\n",
       "    border-collapse: collapse;\n",
       "  }\n",
       "  th, td {\n",
       "    padding: 5px;\n",
       "  }\n",
       "  th {\n",
       "    text-align: left;\n",
       "  }\n",
       "</style><div class='table-result-container'><table class='table-result'><thead style='background-color: white'><tr><th>id</th><th>name</th><th>experience</th><th>gender</th><th>dob</th><th>company</th><th>designation</th><th>doj</th><th>skills</th><th>actual_expected_salary</th></tr></thead><tbody><tr><td>110</td><td>Vin</td><td>null</td><td>T</td><td>1987-01-22T00:00:00Z</td><td>Sagar Info Tech</td><td>\" Team Lead \"</td><td>21-01-2020</td><td>C,C++,C++,Assembly</td><td>List(1000000, 600000)</td></tr></tbody></table></div>"
      ]
     },
     "metadata": {
      "application/vnd.databricks.v1+output": {
       "addedWidgets": {},
       "aggData": [],
       "aggError": "",
       "aggOverflow": false,
       "aggSchema": [],
       "aggSeriesLimitReached": false,
       "aggType": "",
       "arguments": {},
       "columnCustomDisplayInfos": {},
       "data": [
        [
         110,
         "Vin",
         null,
         "T",
         "1987-01-22T00:00:00Z",
         "Sagar Info Tech",
         "\" Team Lead \"",
         "21-01-2020",
         "C,C++,C++,Assembly",
         [
          "1000000",
          "600000"
         ]
        ]
       ],
       "datasetInfos": [],
       "dbfsResultPath": null,
       "isJsonSchema": true,
       "metadata": {},
       "overflow": false,
       "plotOptions": {
        "customPlotOptions": {},
        "displayType": "table",
        "pivotAggregation": null,
        "pivotColumns": null,
        "xColumns": null,
        "yColumns": null
       },
       "removedWidgets": [],
       "schema": [
        {
         "metadata": "{}",
         "name": "id",
         "type": "\"integer\""
        },
        {
         "metadata": "{}",
         "name": "name",
         "type": "\"string\""
        },
        {
         "metadata": "{}",
         "name": "experience",
         "type": "\"integer\""
        },
        {
         "metadata": "{}",
         "name": "gender",
         "type": "\"string\""
        },
        {
         "metadata": "{}",
         "name": "dob",
         "type": "\"timestamp\""
        },
        {
         "metadata": "{}",
         "name": "company",
         "type": "\"string\""
        },
        {
         "metadata": "{}",
         "name": "designation",
         "type": "\"string\""
        },
        {
         "metadata": "{}",
         "name": "doj",
         "type": "\"string\""
        },
        {
         "metadata": "{}",
         "name": "skills",
         "type": "\"string\""
        },
        {
         "metadata": "{}",
         "name": "actual_expected_salary",
         "type": "{\"type\":\"array\",\"elementType\":\"string\",\"containsNull\":false}"
        }
       ],
       "type": "table"
      }
     },
     "output_type": "display_data"
    }
   ],
   "source": [
    "# Approach 1\n",
    "salary_array_df= employee_df.withColumn(\"actual_expected_salary\", split(col(\"actual_expected_salary\"), \",\"))\n",
    "\n",
    "accepted_salary_greater_df = salary_array_df.filter(col(\"actual_expected_salary\").getItem(0).cast(\"int\") > col(\"actual_expected_salary\").getItem(1).cast(\"int\"))\n",
    "\n",
    "accepted_salary_greater_df.display()\n",
    "\n",
    "# Approach 2\n",
    "sal_array_int_df.filter(col(\"sal_int\")[0] > col(\"sal_int\")[1]).display()\n",
    "\n",
    "# Approach 3\n",
    "to_int = udf(lambda x: [int(i) for i in x] if x is not None else None, ArrayType(IntegerType()))\n",
    " \n",
    "emp_df12 = emp_df1.withColumn(\"actual_expected_salary\", to_int(\"actual_expected_salary\"))\n",
    " \n",
    "emp_df12.display()\n"
   ]
  },
  {
   "cell_type": "markdown",
   "metadata": {
    "application/vnd.databricks.v1+cell": {
     "cellMetadata": {},
     "inputWidgets": {},
     "nuid": "60267f48-512e-4866-a9a0-f4f951b20a50",
     "showTitle": false,
     "title": ""
    }
   },
   "source": [
    "## Q-2 max salry- 30% hike"
   ]
  },
  {
   "cell_type": "code",
   "execution_count": 0,
   "metadata": {
    "application/vnd.databricks.v1+cell": {
     "cellMetadata": {
      "byteLimit": 2048000,
      "rowLimit": 10000
     },
     "inputWidgets": {},
     "nuid": "6634ea60-23e7-4d2d-bbfd-d98418993df5",
     "showTitle": false,
     "title": ""
    }
   },
   "outputs": [
    {
     "output_type": "display_data",
     "data": {
      "text/html": [
       "<style scoped>\n",
       "  .table-result-container {\n",
       "    max-height: 300px;\n",
       "    overflow: auto;\n",
       "  }\n",
       "  table, th, td {\n",
       "    border: 1px solid black;\n",
       "    border-collapse: collapse;\n",
       "  }\n",
       "  th, td {\n",
       "    padding: 5px;\n",
       "  }\n",
       "  th {\n",
       "    text-align: left;\n",
       "  }\n",
       "</style><div class='table-result-container'><table class='table-result'><thead style='background-color: white'><tr><th>id</th><th>name</th><th>experience</th><th>gender</th><th>dob</th><th>company</th><th>designation</th><th>doj</th><th>skills</th><th>actual_expected_salary</th><th>30% Salary Hike</th></tr></thead><tbody><tr><td>101</td><td>Agastya</td><td>1</td><td>M</td><td>1987-01-22T00:00:00Z</td><td>Infosys</td><td>Developer</td><td>21-01-2015</td><td>Hadoop,PySpark,Kafka</td><td>List(1050000, 1100000)</td><td>1365000.0</td></tr><tr><td>102</td><td>Acyuta</td><td>2</td><td>F</td><td>1987-03-29T00:00:00Z</td><td>TCS</td><td>Team Lead</td><td>21-01-2016</td><td>C,C++,Java</td><td>List(1050000, 1100000)</td><td>1365000.0</td></tr><tr><td>103</td><td>Anuvrata</td><td>1</td><td>M</td><td>1987-01-22T00:00:00Z</td><td>Infosys</td><td>Developer</td><td>21-01-2017</td><td>Java,Python,Hadoop</td><td>List(1050000, 1100000)</td><td>1365000.0</td></tr><tr><td>null</td><td>Bhavika</td><td>6</td><td>F</td><td>1987-01-22T00:00:00Z</td><td>Cisco</td><td>Team lead</td><td>21-01-2015</td><td>Hadoop,PySpark,Kafka</td><td>null</td><td>null</td></tr><tr><td>105</td><td>Chitragandha</td><td>null</td><td>M</td><td>1987-01-22T00:00:00Z</td><td>CTS</td><td>Developer</td><td>null</td><td>C,C++,Java</td><td>List(1050000, 1100000)</td><td>1365000.0</td></tr><tr><td>106</td><td>Hritika</td><td>9</td><td>F</td><td>1987-01-22T00:00:00Z</td><td>Cisco</td><td>Developer</td><td>21-01-2016</td><td>C,C++,Java</td><td>List(1050000, 1100000)</td><td>1365000.0</td></tr><tr><td>107</td><td>Jigyasa</td><td>12</td><td>M</td><td>1987-01-22T00:00:00Z</td><td>Infosys</td><td>Team Lead</td><td>21-01-2005</td><td>Hadoop,PySpark,Kafka</td><td>List(1050000, 1100000)</td><td>1365000.0</td></tr><tr><td>108</td><td>Kaveri</td><td>4</td><td>F</td><td>1987-01-22T00:00:00Z</td><td>cisco</td><td>Research and Development Engineer</td><td>21-01-2015</td><td>C,C++,Java</td><td>List(1050000, 1100000)</td><td>1365000.0</td></tr><tr><td>109</td><td>null</td><td>8</td><td>M</td><td>1987-01-22T00:00:00Z</td><td>null</td><td>Developer</td><td>21-01-2008</td><td>C,C++,Java</td><td>List(1050000, 1100000)</td><td>1365000.0</td></tr><tr><td>110</td><td>Vin</td><td>null</td><td>T</td><td>1987-01-22T00:00:00Z</td><td>Sagar Info Tech</td><td>\" Team Lead \"</td><td>21-01-2020</td><td>C,C++,C++,Assembly</td><td>List(1000000, 600000)</td><td>1300000.0</td></tr><tr><td>null</td><td>null</td><td>null</td><td>null</td><td>null</td><td>null</td><td>null</td><td>null</td><td>null</td><td>null</td><td>null</td></tr></tbody></table></div>"
      ]
     },
     "metadata": {
      "application/vnd.databricks.v1+output": {
       "addedWidgets": {},
       "aggData": [],
       "aggError": "",
       "aggOverflow": false,
       "aggSchema": [],
       "aggSeriesLimitReached": false,
       "aggType": "",
       "arguments": {},
       "columnCustomDisplayInfos": {},
       "data": [
        [
         101,
         "Agastya",
         1,
         "M",
         "1987-01-22T00:00:00Z",
         "Infosys",
         "Developer",
         "21-01-2015",
         "Hadoop,PySpark,Kafka",
         [
          "1050000",
          "1100000"
         ],
         1365000.0
        ],
        [
         102,
         "Acyuta",
         2,
         "F",
         "1987-03-29T00:00:00Z",
         "TCS",
         "Team Lead",
         "21-01-2016",
         "C,C++,Java",
         [
          "1050000",
          "1100000"
         ],
         1365000.0
        ],
        [
         103,
         "Anuvrata",
         1,
         "M",
         "1987-01-22T00:00:00Z",
         "Infosys",
         "Developer",
         "21-01-2017",
         "Java,Python,Hadoop",
         [
          "1050000",
          "1100000"
         ],
         1365000.0
        ],
        [
         null,
         "Bhavika",
         6,
         "F",
         "1987-01-22T00:00:00Z",
         "Cisco",
         "Team lead",
         "21-01-2015",
         "Hadoop,PySpark,Kafka",
         null,
         null
        ],
        [
         105,
         "Chitragandha",
         null,
         "M",
         "1987-01-22T00:00:00Z",
         "CTS",
         "Developer",
         null,
         "C,C++,Java",
         [
          "1050000",
          "1100000"
         ],
         1365000.0
        ],
        [
         106,
         "Hritika",
         9,
         "F",
         "1987-01-22T00:00:00Z",
         "Cisco",
         "Developer",
         "21-01-2016",
         "C,C++,Java",
         [
          "1050000",
          "1100000"
         ],
         1365000.0
        ],
        [
         107,
         "Jigyasa",
         12,
         "M",
         "1987-01-22T00:00:00Z",
         "Infosys",
         "Team Lead",
         "21-01-2005",
         "Hadoop,PySpark,Kafka",
         [
          "1050000",
          "1100000"
         ],
         1365000.0
        ],
        [
         108,
         "Kaveri",
         4,
         "F",
         "1987-01-22T00:00:00Z",
         "cisco",
         "Research and Development Engineer",
         "21-01-2015",
         "C,C++,Java",
         [
          "1050000",
          "1100000"
         ],
         1365000.0
        ],
        [
         109,
         null,
         8,
         "M",
         "1987-01-22T00:00:00Z",
         null,
         "Developer",
         "21-01-2008",
         "C,C++,Java",
         [
          "1050000",
          "1100000"
         ],
         1365000.0
        ],
        [
         110,
         "Vin",
         null,
         "T",
         "1987-01-22T00:00:00Z",
         "Sagar Info Tech",
         "\" Team Lead \"",
         "21-01-2020",
         "C,C++,C++,Assembly",
         [
          "1000000",
          "600000"
         ],
         1300000.0
        ],
        [
         null,
         null,
         null,
         null,
         null,
         null,
         null,
         null,
         null,
         null,
         null
        ]
       ],
       "datasetInfos": [],
       "dbfsResultPath": null,
       "isJsonSchema": true,
       "metadata": {},
       "overflow": false,
       "plotOptions": {
        "customPlotOptions": {},
        "displayType": "table",
        "pivotAggregation": null,
        "pivotColumns": null,
        "xColumns": null,
        "yColumns": null
       },
       "removedWidgets": [],
       "schema": [
        {
         "metadata": "{}",
         "name": "id",
         "type": "\"integer\""
        },
        {
         "metadata": "{}",
         "name": "name",
         "type": "\"string\""
        },
        {
         "metadata": "{}",
         "name": "experience",
         "type": "\"integer\""
        },
        {
         "metadata": "{}",
         "name": "gender",
         "type": "\"string\""
        },
        {
         "metadata": "{}",
         "name": "dob",
         "type": "\"timestamp\""
        },
        {
         "metadata": "{}",
         "name": "company",
         "type": "\"string\""
        },
        {
         "metadata": "{}",
         "name": "designation",
         "type": "\"string\""
        },
        {
         "metadata": "{}",
         "name": "doj",
         "type": "\"string\""
        },
        {
         "metadata": "{}",
         "name": "skills",
         "type": "\"string\""
        },
        {
         "metadata": "{}",
         "name": "actual_expected_salary",
         "type": "{\"type\":\"array\",\"elementType\":\"string\",\"containsNull\":false}"
        },
        {
         "metadata": "{}",
         "name": "30% Salary Hike",
         "type": "\"double\""
        }
       ],
       "type": "table"
      }
     },
     "output_type": "display_data"
    }
   ],
   "source": [
    "# Approach 1\n",
    "hike_df = salary_array_df.withColumn(\"30% Salary Hike\", col(\"actual_expected_salary\").getItem(0) * 1.30)\n",
    "hike_df.display()\n",
    "\n",
    "# Approach 2\n",
    "result_df_salary_hike=result_df_01.withColumn(\"30%_Hike_Salary\",array_max(col(\"actual_expected_salary\").cast(\"array<double>\"))*1.3)\n",
    " \n",
    "result_df_salary_hike.display()\n",
    "\n",
    "# Approach 3\n",
    "actual_sal = col(\"actual_expected_salary\")[0].cast(\"double\")\n",
    "expected_sal = col(\"actual_expected_salary\")[1].cast(\"double\")\n",
    " \n",
    "greatest_element = greatest(actual_sal, expected_sal)\n",
    "hiked_value = greatest_element * 1.30\n",
    " \n",
    "empdf1_with_hike = empdf1.withColumn(\"hiked_salary_30%\", hiked_value)\n",
    "empdf1_with_hike.display()\n"
   ]
  },
  {
   "cell_type": "markdown",
   "metadata": {
    "application/vnd.databricks.v1+cell": {
     "cellMetadata": {},
     "inputWidgets": {},
     "nuid": "0c7c1fb5-3bc8-407d-b7cc-78959e1f14b8",
     "showTitle": false,
     "title": ""
    }
   },
   "source": [
    "# Q3 python-30% extra and pyspark&kafka -40% extra"
   ]
  },
  {
   "cell_type": "code",
   "execution_count": 0,
   "metadata": {
    "application/vnd.databricks.v1+cell": {
     "cellMetadata": {},
     "inputWidgets": {},
     "nuid": "1a871825-6c4d-4768-9545-12521d05dac5",
     "showTitle": false,
     "title": ""
    }
   },
   "outputs": [],
   "source": [
    "# Approach 1\n",
    "increased_sal_pyspark_df = increased_sal_df.withColumn(\"salary_extra_hike\",\n",
    "                                                       when((array_contains(col(\"skills\"),\"Hadoop\") & array_contains(col(\"skills\"),\"PySpark\")),round(col(\"salary\")*1.4,0 ))\n",
    "                                                       .when(array_contains(col(\"skills\"),\"Hadoop\") , col(\"salary\")*1.3 )\n",
    "                                                       .otherwise(col(\"salary\"))).display()\n",
    "\n",
    "\n",
    "# Approach 2 \n",
    "result_df_salary_hike_skill = result_df_salary_hike.withColumn(\"Extra_Salary_Hike_Pyspark_Skill\",when(array_contains(col(\"skills\"), \"PySpark\"),col(\"30%_Hike_Salary\") * 1.3).otherwise(col(\"30%_Hike_Salary\")))\n",
    " \n",
    "result_df_salary_hike_skill.display(truncate=False)\n",
    "\n",
    "\n",
    "# Approach 3\n",
    "empdf1_with_hike.withColumn(\n",
    "    \"hike_based_on_skill\",\n",
    "    when(array_contains(col(\"skills\"), \"Python\"), col(\"hiked_salary_30%\") * 1.3)\n",
    "    .when(\n",
    "        array_contains((\"skills\"), \"PySpark\") & array_contains(col(\"skills\"), \"Kafka\"),\n",
    "        round(col(\"hiked_salary_30%\") * 1.4,2),\n",
    "    )\n",
    "    .otherwise(col(\"hiked_salary_30%\")),\n",
    ").display()"
   ]
  },
  {
   "cell_type": "markdown",
   "metadata": {
    "application/vnd.databricks.v1+cell": {
     "cellMetadata": {},
     "inputWidgets": {},
     "nuid": "bdba6482-e42c-4dac-97a6-dc5ae98648ed",
     "showTitle": false,
     "title": ""
    }
   },
   "source": []
  },
  {
   "cell_type": "markdown",
   "metadata": {
    "application/vnd.databricks.v1+cell": {
     "cellMetadata": {},
     "inputWidgets": {},
     "nuid": "0b043f0c-3373-441a-a77f-115028e57bbc",
     "showTitle": false,
     "title": ""
    }
   },
   "source": []
  }
 ],
 "metadata": {
  "application/vnd.databricks.v1+notebook": {
   "dashboards": [],
   "environmentMetadata": null,
   "language": "python",
   "notebookMetadata": {
    "pythonIndentUnit": 4
   },
   "notebookName": "Assignment 28-06-2024",
   "widgets": {}
  }
 },
 "nbformat": 4,
 "nbformat_minor": 0
}
